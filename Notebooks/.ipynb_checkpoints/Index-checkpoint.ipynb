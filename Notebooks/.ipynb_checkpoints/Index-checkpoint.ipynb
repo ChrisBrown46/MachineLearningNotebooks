{
 "cells": [
  {
   "cell_type": "markdown",
   "metadata": {
    "slideshow": {
     "slide_type": "slide"
    }
   },
   "source": [
    "# Reinforcement Learning Using OpenAI Gym"
   ]
  },
  {
   "cell_type": "markdown",
   "metadata": {},
   "source": [
    "## Quick Introduction to RL (Reinforcement Learning)\n",
    "\n",
    "Reinforcement learning (RL) is an area of machine learning concerned with how software agents ought to take actions in an environment so as to maximize some notion of cumulative reward. Reinforcement learning is one of three basic machine learning paradigms, alongside supervised learning and unsupervised learning.\n",
    "\n",
    "It differs from supervised learning in that labelled input/output pairs need not be presented, and sub-optimal actions need not be explicitly corrected. Instead the focus is finding a balance between exploration (of uncharted territory) and exploitation (of current knowledge).\n",
    "\n",
    "The environment is typically formulated as a Markov decision process (MDP), as many reinforcement learning algorithms for this context utilize dynamic programming techniques. The main difference between the classical dynamic programming methods and reinforcement learning algorithms is that the latter do not assume knowledge of an exact mathematical model of the MDP and they target large MDPs where exact methods become infeasible.\n",
    "\n",
    "**source**: https://en.wikipedia.org/wiki/Reinforcement_learning"
   ]
  },
  {
   "cell_type": "markdown",
   "metadata": {},
   "source": [
    "## Experiments with OpenAI Gym\n",
    "\n",
    "Gym is a toolkit for developing and comparing reinforcement learning algorithms. It makes no assumptions about the structure of your agent, and is compatible with any numerical computation library, such as TensorFlow or Theano.\n",
    "\n",
    "The gym library is a collection of test problems — environments — that you can use to work out your reinforcement learning algorithms. These environments have a shared interface, allowing you to write general algorithms.\n",
    "\n",
    "**source**: https://gym.openai.com/docs/"
   ]
  },
  {
   "cell_type": "markdown",
   "metadata": {},
   "source": [
    "## Learn by doing -- A reinforcement learning experiment using OpenAI Gym"
   ]
  },
  {
   "cell_type": "markdown",
   "metadata": {},
   "source": [
    "### Creating a Gym environment\n",
    "\n",
    "To start using OpenAI Gym, one must install it and import it into a Python environment. One can either use a pre-made environment for testing, or build their own.\n",
    "\n",
    "For this experiment, I will be using the pre-built 'Acrobot' environment. The state consists of the sin() and cos() of the two rotational joint angles and the joint angular velocities \\[cos(theta1) sin(theta1) cos(theta2) sin(theta2) thetaDot1 thetaDot2\\]. The action is either applying +1, 0 or -1 torque on the joint between the two pendulum links. The goal is to get the movable joint above the thin black line. The reward is either 1 or -1, depending on the success of the agent.\n",
    "\n",
    "We can view the action and observation space as follows."
   ]
  },
  {
   "cell_type": "code",
   "execution_count": 1,
   "metadata": {},
   "outputs": [
    {
     "name": "stdout",
     "output_type": "stream",
     "text": [
      "Action Space Shape: Discrete(3)\n",
      "Action Example: 1\n",
      "Observation Space Shape: Box(6,)\n",
      "Observation Example: [ 0.99993867  0.01107472  0.99939632 -0.03474194  0.08784581  0.05837633]\n"
     ]
    }
   ],
   "source": [
    "import gym\n",
    "\n",
    "env = gym.make(\"Acrobot-v1\")\n",
    "observation = env.reset()\n",
    "\n",
    "print(f\"Action Space Shape: {env.action_space}\")\n",
    "print(f\"Action Example: {env.action_space.sample()}\")\n",
    "\n",
    "print(f\"Observation Space Shape: {env.observation_space}\")\n",
    "print(f\"Observation Example: {observation}\")"
   ]
  },
  {
   "cell_type": "markdown",
   "metadata": {},
   "source": [
    "We can also render the environment, until an episode completes, as follows."
   ]
  },
  {
   "cell_type": "code",
   "execution_count": 2,
   "metadata": {},
   "outputs": [],
   "source": [
    "# Enables recording\n",
    "# import gym\n",
    "# from gym.wrappers import Monitor\n",
    "# env = gym.make(\"Acrobot-v1\")\n",
    "# env = Monitor(env, './video')\n",
    "\n",
    "env.reset()\n",
    "done = False\n",
    "\n",
    "while not done:\n",
    "  env.render()\n",
    "  action = env.action_space.sample()\n",
    "  observation, reward, done, info = env.step(action)\n",
    "\n",
    "env.close()"
   ]
  },
  {
   "cell_type": "markdown",
   "metadata": {},
   "source": [
    "In the prior code block, we take random actions and only utilize the `done` information to determine if a session has finished. You can either run the code to see the animation for youself, or view the video below."
   ]
  },
  {
   "cell_type": "markdown",
   "metadata": {},
   "source": [
    "<video width=\"320\" controls src=\"assets/acrobot_random_actions.mp4\" style=\"display: block;margin-left: auto;margin-right: auto;\"/>"
   ]
  },
  {
   "cell_type": "markdown",
   "metadata": {},
   "source": [
    "## Building a smarter agent\n",
    "\n",
    "### Tabular\n",
    "\n",
    "Tabular methods use arrays and tables to hold an approximate of the value functions. More simply, they store every combination of state/action pairs and hold a perceived value of that pair. This simplifies the learning process because tables are very quick to compute and can give decent results given the state and action spaces are small enough. One can also reduce the size of the state and action spaces to make the agent learn evey quicker due to a smaller table to fill (at the cost of a reduced accuracy). One idea that can be implemented, that I will not use in the Acrobot example, is to transform state values before binning them. For example, one could use a sigmoid function to spread the state values out so that the center distrubtion gets put into more bins while the outliers get grouped together.\n",
    "\n",
    "To apply a tabular method to this Acrobot example, we simply need a table that holds every possible state/action pair. Due to the size of this table, I bin the state values into 5 buckets so that there are 3 * 6^5 values to compute. I also add a randomness factor to force my agent to explore more in the beginning then slowly exploit more as it learns. I have the training render a session every 10,000 sessions. To disable this, comment out the render or change the `RENDER_STEPS` variable."
   ]
  },
  {
   "cell_type": "code",
   "execution_count": null,
   "metadata": {},
   "outputs": [],
   "source": [
    "# Configuration Values"
   ]
  },
  {
   "cell_type": "code",
   "execution_count": null,
   "metadata": {},
   "outputs": [],
   "source": [
    "# Table Class"
   ]
  },
  {
   "cell_type": "code",
   "execution_count": null,
   "metadata": {},
   "outputs": [],
   "source": [
    "# Training"
   ]
  },
  {
   "cell_type": "code",
   "execution_count": null,
   "metadata": {},
   "outputs": [],
   "source": [
    "# VIDEO (HTML) DEMONSTRATION"
   ]
  },
  {
   "cell_type": "markdown",
   "metadata": {},
   "source": [
    "\n",
    "### DQN\n",
    "\n",
    "### PPO"
   ]
  }
 ],
 "metadata": {
  "kernelspec": {
   "display_name": "Python 3",
   "language": "python",
   "name": "python3"
  },
  "language_info": {
   "codemirror_mode": {
    "name": "ipython",
    "version": 3
   },
   "file_extension": ".py",
   "mimetype": "text/x-python",
   "name": "python",
   "nbconvert_exporter": "python",
   "pygments_lexer": "ipython3",
   "version": "3.7.3"
  }
 },
 "nbformat": 4,
 "nbformat_minor": 1
}
